{
 "cells": [
  {
   "cell_type": "code",
   "execution_count": 14,
   "metadata": {},
   "outputs": [
    {
     "data": {
      "text/html": [
       "<div>\n",
       "<style scoped>\n",
       "    .dataframe tbody tr th:only-of-type {\n",
       "        vertical-align: middle;\n",
       "    }\n",
       "\n",
       "    .dataframe tbody tr th {\n",
       "        vertical-align: top;\n",
       "    }\n",
       "\n",
       "    .dataframe thead th {\n",
       "        text-align: right;\n",
       "    }\n",
       "</style>\n",
       "<table border=\"1\" class=\"dataframe\">\n",
       "  <thead>\n",
       "    <tr style=\"text-align: right;\">\n",
       "      <th></th>\n",
       "      <th>id</th>\n",
       "      <th>typeid</th>\n",
       "      <th>kategoriid</th>\n",
       "      <th>statusid</th>\n",
       "      <th>offentlighedskode</th>\n",
       "      <th>titel</th>\n",
       "      <th>dato</th>\n",
       "      <th>modtagelsesdato</th>\n",
       "      <th>frigivelsesdato</th>\n",
       "      <th>paragraf</th>\n",
       "      <th>paragrafnummer</th>\n",
       "      <th>spørgsmålsordlyd</th>\n",
       "      <th>spørgsmålstitel</th>\n",
       "      <th>spørgsmålsid</th>\n",
       "      <th>procedurenummer</th>\n",
       "      <th>grundnotatstatus</th>\n",
       "      <th>dagsordenudgavenummer</th>\n",
       "      <th>opdateringsdato</th>\n",
       "      <th>answer_id</th>\n",
       "      <th>translated_questions</th>\n",
       "    </tr>\n",
       "  </thead>\n",
       "  <tbody>\n",
       "    <tr>\n",
       "      <th>0</th>\n",
       "      <td>2</td>\n",
       "      <td>16</td>\n",
       "      <td>14</td>\n",
       "      <td>1</td>\n",
       "      <td>O</td>\n",
       "      <td>Er ministeren enig i vurderingen af, at grønla...</td>\n",
       "      <td>2014-01-02T00:00:00</td>\n",
       "      <td>NaN</td>\n",
       "      <td>2014-01-02T11:36:24</td>\n",
       "      <td>NaN</td>\n",
       "      <td>NaN</td>\n",
       "      <td>NaN</td>\n",
       "      <td>NaN</td>\n",
       "      <td>NaN</td>\n",
       "      <td>NaN</td>\n",
       "      <td>NaN</td>\n",
       "      <td>NaN</td>\n",
       "      <td>2015-05-29T11:11:34.047</td>\n",
       "      <td>3.0</td>\n",
       "      <td>Does the minister agree with the assessment th...</td>\n",
       "    </tr>\n",
       "    <tr>\n",
       "      <th>1</th>\n",
       "      <td>4</td>\n",
       "      <td>16</td>\n",
       "      <td>14</td>\n",
       "      <td>1</td>\n",
       "      <td>O</td>\n",
       "      <td>Hvad agter ministeren at foretage sig, så kost...</td>\n",
       "      <td>2014-01-02T00:00:00</td>\n",
       "      <td>NaN</td>\n",
       "      <td>2014-01-20T10:12:24</td>\n",
       "      <td>NaN</td>\n",
       "      <td>NaN</td>\n",
       "      <td>NaN</td>\n",
       "      <td>NaN</td>\n",
       "      <td>NaN</td>\n",
       "      <td>NaN</td>\n",
       "      <td>NaN</td>\n",
       "      <td>NaN</td>\n",
       "      <td>2015-05-29T11:11:32.563</td>\n",
       "      <td>5.0</td>\n",
       "      <td>What does the minister intend to do so that bo...</td>\n",
       "    </tr>\n",
       "    <tr>\n",
       "      <th>2</th>\n",
       "      <td>16</td>\n",
       "      <td>16</td>\n",
       "      <td>14</td>\n",
       "      <td>1</td>\n",
       "      <td>O</td>\n",
       "      <td>Mener ministeren, at det er fair, at det offen...</td>\n",
       "      <td>2014-01-03T00:00:00</td>\n",
       "      <td>NaN</td>\n",
       "      <td>2014-01-20T10:14:03</td>\n",
       "      <td>NaN</td>\n",
       "      <td>NaN</td>\n",
       "      <td>NaN</td>\n",
       "      <td>NaN</td>\n",
       "      <td>NaN</td>\n",
       "      <td>NaN</td>\n",
       "      <td>NaN</td>\n",
       "      <td>NaN</td>\n",
       "      <td>2015-05-29T11:11:15.453</td>\n",
       "      <td>19.0</td>\n",
       "      <td>Does the minister think that it is fair that t...</td>\n",
       "    </tr>\n",
       "    <tr>\n",
       "      <th>3</th>\n",
       "      <td>18</td>\n",
       "      <td>16</td>\n",
       "      <td>14</td>\n",
       "      <td>1</td>\n",
       "      <td>O</td>\n",
       "      <td>Mener ministeren, at det vil være en god ide a...</td>\n",
       "      <td>2014-01-03T00:00:00</td>\n",
       "      <td>NaN</td>\n",
       "      <td>2014-01-20T10:13:46</td>\n",
       "      <td>NaN</td>\n",
       "      <td>NaN</td>\n",
       "      <td>NaN</td>\n",
       "      <td>NaN</td>\n",
       "      <td>NaN</td>\n",
       "      <td>NaN</td>\n",
       "      <td>NaN</td>\n",
       "      <td>NaN</td>\n",
       "      <td>2015-05-29T11:11:30.75</td>\n",
       "      <td>17.0</td>\n",
       "      <td>Does the minister think that it would be a goo...</td>\n",
       "    </tr>\n",
       "    <tr>\n",
       "      <th>4</th>\n",
       "      <td>31</td>\n",
       "      <td>16</td>\n",
       "      <td>14</td>\n",
       "      <td>1</td>\n",
       "      <td>O</td>\n",
       "      <td>Vil udenrigsministeren i lyset af, at danske m...</td>\n",
       "      <td>2014-01-03T00:00:00</td>\n",
       "      <td>NaN</td>\n",
       "      <td>2014-01-03T13:53:04</td>\n",
       "      <td>NaN</td>\n",
       "      <td>NaN</td>\n",
       "      <td>NaN</td>\n",
       "      <td>NaN</td>\n",
       "      <td>NaN</td>\n",
       "      <td>NaN</td>\n",
       "      <td>NaN</td>\n",
       "      <td>NaN</td>\n",
       "      <td>2015-05-29T11:11:26.343</td>\n",
       "      <td>62.0</td>\n",
       "      <td>In light of the fact that the Danish media hav...</td>\n",
       "    </tr>\n",
       "  </tbody>\n",
       "</table>\n",
       "</div>"
      ],
      "text/plain": [
       "   id  typeid  kategoriid  statusid offentlighedskode  \\\n",
       "0   2      16          14         1                 O   \n",
       "1   4      16          14         1                 O   \n",
       "2  16      16          14         1                 O   \n",
       "3  18      16          14         1                 O   \n",
       "4  31      16          14         1                 O   \n",
       "\n",
       "                                               titel                 dato  \\\n",
       "0  Er ministeren enig i vurderingen af, at grønla...  2014-01-02T00:00:00   \n",
       "1  Hvad agter ministeren at foretage sig, så kost...  2014-01-02T00:00:00   \n",
       "2  Mener ministeren, at det er fair, at det offen...  2014-01-03T00:00:00   \n",
       "3  Mener ministeren, at det vil være en god ide a...  2014-01-03T00:00:00   \n",
       "4  Vil udenrigsministeren i lyset af, at danske m...  2014-01-03T00:00:00   \n",
       "\n",
       "  modtagelsesdato      frigivelsesdato  paragraf  paragrafnummer  \\\n",
       "0             NaN  2014-01-02T11:36:24       NaN             NaN   \n",
       "1             NaN  2014-01-20T10:12:24       NaN             NaN   \n",
       "2             NaN  2014-01-20T10:14:03       NaN             NaN   \n",
       "3             NaN  2014-01-20T10:13:46       NaN             NaN   \n",
       "4             NaN  2014-01-03T13:53:04       NaN             NaN   \n",
       "\n",
       "   spørgsmålsordlyd  spørgsmålstitel  spørgsmålsid  procedurenummer  \\\n",
       "0               NaN              NaN           NaN              NaN   \n",
       "1               NaN              NaN           NaN              NaN   \n",
       "2               NaN              NaN           NaN              NaN   \n",
       "3               NaN              NaN           NaN              NaN   \n",
       "4               NaN              NaN           NaN              NaN   \n",
       "\n",
       "   grundnotatstatus  dagsordenudgavenummer          opdateringsdato  \\\n",
       "0               NaN                    NaN  2015-05-29T11:11:34.047   \n",
       "1               NaN                    NaN  2015-05-29T11:11:32.563   \n",
       "2               NaN                    NaN  2015-05-29T11:11:15.453   \n",
       "3               NaN                    NaN   2015-05-29T11:11:30.75   \n",
       "4               NaN                    NaN  2015-05-29T11:11:26.343   \n",
       "\n",
       "   answer_id                               translated_questions  \n",
       "0        3.0  Does the minister agree with the assessment th...  \n",
       "1        5.0  What does the minister intend to do so that bo...  \n",
       "2       19.0  Does the minister think that it is fair that t...  \n",
       "3       17.0  Does the minister think that it would be a goo...  \n",
       "4       62.0  In light of the fact that the Danish media hav...  "
      ]
     },
     "execution_count": 14,
     "metadata": {},
     "output_type": "execute_result"
    }
   ],
   "source": [
    "from sentence_transformers import SentenceTransformer\n",
    "model = SentenceTransformer('all-mpnet-base-v2')\n",
    "from sklearn.metrics.pairwise import cosine_similarity\n",
    "\n",
    "#importing the dataset\n",
    "import pandas as pd\n",
    "df = pd.read_csv('../data/translated_questions.csv')\n",
    "df.head()"
   ]
  },
  {
   "cell_type": "code",
   "execution_count": 24,
   "metadata": {},
   "outputs": [],
   "source": [
    "#finding the file names of all the questions for which there are answers\n",
    "#This is done by looking through all the basename of the files in the answers folder\n",
    "import os\n",
    "import glob\n",
    "import re\n",
    "from pathlib import Path\n",
    "files = glob.glob('../data/translated/*.txt')\n",
    "files = [os.path.basename(x) for x in files]\n",
    "answer_ids = [re.sub(r'\\.txt', '', x) for x in files]\n"
   ]
  },
  {
   "cell_type": "code",
   "execution_count": 47,
   "metadata": {},
   "outputs": [],
   "source": [
    "#removing all .tmp files from the answer_ids list\n",
    "answer_ids = [x for x in answer_ids if not x.endswith('.tmp')]"
   ]
  },
  {
   "cell_type": "code",
   "execution_count": 48,
   "metadata": {},
   "outputs": [],
   "source": [
    "answer_ids = [int(x) for x in answer_ids]"
   ]
  },
  {
   "cell_type": "code",
   "execution_count": 49,
   "metadata": {},
   "outputs": [],
   "source": [
    "#convert df['answer_id'] to int type if it is not NaN\n",
    "df['answer_id'] = df['answer_id'].astype('Int64')\n"
   ]
  },
  {
   "cell_type": "code",
   "execution_count": 53,
   "metadata": {},
   "outputs": [],
   "source": [
    "mask = df['answer_id'].isin(answer_ids)\n",
    "new_corpus = df[mask]['translated_questions'].tolist()\n",
    "\n"
   ]
  },
  {
   "cell_type": "code",
   "execution_count": 51,
   "metadata": {},
   "outputs": [
    {
     "data": {
      "text/plain": [
       "7590"
      ]
     },
     "execution_count": 51,
     "metadata": {},
     "output_type": "execute_result"
    }
   ],
   "source": [
    "sum(mask)"
   ]
  },
  {
   "cell_type": "code",
   "execution_count": 54,
   "metadata": {},
   "outputs": [
    {
     "data": {
      "text/plain": [
       "7590"
      ]
     },
     "execution_count": 54,
     "metadata": {},
     "output_type": "execute_result"
    }
   ],
   "source": [
    "len(new_corpus)"
   ]
  },
  {
   "cell_type": "code",
   "execution_count": 68,
   "metadata": {},
   "outputs": [
    {
     "data": {
      "text/plain": [
       "['Does the minister agree with the assessment that Greenlandic mineral projects arouse interest abroad, and in this connection can the minister guarantee that there have been no NSA wiretapping or wiretapping by other stakeholders of Greenlandic politicians and civil servants?',\n",
       " 'What does the minister intend to do so that boarding schools etc. continue to be able to expel pupils who have taken illegal drugs and who are not visibly affected?',\n",
       " 'Does the minister think that it is fair that the public sector, on the one hand, makes demands on citizens and businesses to be able to communicate digitally with the public sector, when the public sector itself does not provide the opportunity for digital communication, as is the case with the lack of opportunity for digital agreement on NemID employee signature for companies other than personally owned?',\n",
       " 'Does the minister think that it would be a good idea to expand the Central Business Register so that it becomes possible to implement digital agreements on NemID employee signatures for all types of companies, despite the fact that it is not part of the joint public digitization strategy for 2011-2015, and If so, does the minister intend to take the initiative in this regard?',\n",
       " 'In light of the fact that the Danish media have published the story of how the Palestinian - so-called - ambassador to the Czech Republic has been fired, allegedly as a result of having fumbled with explosives in his home, will the Minister of Foreign Affairs state whether they intend to investigate, whether the Palestinian - so-called - ambassador to Denmark, Mr. Amro Alhourani, in his private residence or at the Palestinian representation at HC Andersens Boulevard 51 is also in possession of explosives and/or other weapons?',\n",
       " 'Will the minister explain the government&#39;s foreign policy in the field of drugs in general and in relation to the negotiations in both the EU circle and in the Commission on Narcotic Drugs prior to the annual meeting in March 2014 and the preceding High Level Segment Session, including which areas and objectives the government prioritizes in the negotiations ?',\n",
       " 'Does the minister find it acceptable that Norwegian does not provide compensation to passengers for delays and cancellations, cf. www.check-in.dk on 2 December 2013.',\n",
       " 'What is the minister&#39;s position on the fact that the criminal code&#39;s espionage clauses do not provide sufficient protection for Danish citizens and companies against surveillance by foreign powers, as the outgoing head of the Norwegian Police Intelligence Service (PET) expressed in Politiken on Sunday 29 December 2013, and will the minister, on that basis, take the initiative to change the penal code?',\n",
       " 'Will the minister follow the proposal from MF Trine Bramsen (S) made in a debate post on 2 January 2014 in Fyens Stiftstidende and take the initiative to lower the bridge toll on the Great Belt Bridge?',\n",
       " 'Will the minister take the initiative to look at the common features of the incidents that have taken place and to bring managerial responsibility so that it can be rectified and similar cases avoided in the future?']"
      ]
     },
     "execution_count": 68,
     "metadata": {},
     "output_type": "execute_result"
    }
   ],
   "source": [
    "new_corpus[0:10]"
   ]
  },
  {
   "cell_type": "code",
   "execution_count": 56,
   "metadata": {},
   "outputs": [],
   "source": [
    "encoded_corpus = model.encode(new_corpus, convert_to_tensor=False) #set to true if I want to use it with pytorch in future"
   ]
  },
  {
   "attachments": {},
   "cell_type": "markdown",
   "metadata": {},
   "source": [
    "Great succes. It works now"
   ]
  },
  {
   "cell_type": "code",
   "execution_count": 57,
   "metadata": {},
   "outputs": [],
   "source": [
    "def find_nearest_questions(new_question, top_k=5):\n",
    "    # encoding the new question\n",
    "    encoded_question = model.encode([new_question])[0]\n",
    "\n",
    "    # finding the cosine similarities between the new question and the encoded corpus\n",
    "    cosine_similarities = cosine_similarity(encoded_question.reshape(1, -1), encoded_corpus)[0]\n",
    "\n",
    "    # sorting the cosine similarities in descending order\n",
    "    nearest_questions_indices = cosine_similarities.argsort()[::-1][:top_k]\n",
    "    \n",
    "    nearest_questions = []\n",
    "    for i in nearest_questions_indices:\n",
    "        nearest_questions.append((new_corpus[i], i))\n",
    "        \n",
    "    return nearest_questions"
   ]
  },
  {
   "cell_type": "code",
   "execution_count": 17,
   "metadata": {},
   "outputs": [
    {
     "name": "stdout",
     "output_type": "stream",
     "text": [
      "Nearest questions for:  What is the capital of France?\n",
      "-  About a European federal state.  (index:  41924 )\n",
      "-  About the Muslim Brotherhood in France.  (index:  10274 )\n",
      "-  About France providing state aid to foreign companies that establish themselves in France.  (index:  42746 )\n",
      "-  Will the foreign minister explain France&#39;s economic interests in Iran.  (index:  25574 )\n",
      "-  About the European Council meeting in Nice.  (index:  42204 )\n"
     ]
    }
   ],
   "source": [
    "# testing the function\n",
    "new_question = \"What is the capital of France?\"\n",
    "nearest_questions = find_nearest_questions(new_question)\n",
    "\n",
    "print(\"Nearest questions for: \", new_question)\n",
    "for question, index in nearest_questions:\n",
    "    print(\"- \", question, \" (index: \", index, \")\")"
   ]
  },
  {
   "cell_type": "code",
   "execution_count": 61,
   "metadata": {},
   "outputs": [
    {
     "name": "stdout",
     "output_type": "stream",
     "text": [
      "Nearest questions for:  Is animal welfare important?\n",
      "-  Is it the minister&#39;s assessment that the bureaucracy and the plethora of regulations imposed on Danish farmers have gone too far, when e.g. the guidance on fertilization and harmony rules requires 145 pages of review, and the minister considers that there are limits to how large the regulatory burdens and application requirements for e.g. obtaining EU funding, it is reasonable to impose on ordinary people practicing their liberal professions?  (index:  5624 )\n",
      "-  What is the minister&#39;s position on the fact that you are taxed on a free car, but not on a free car with a driver, and does the minister intend to change this bias in the law?  (index:  7341 )\n",
      "-  Does the minister intend to have a discussion with the Social Appeals Board about whether any suspicion of unwellness in a child should be investigated and a municipality should not be refused further action?  (index:  3575 )\n",
      "-  How does the minister relate to Maj Invest (Lønmottagernes Dyrtidsfond) giving away millions in bonuses paid by a statutory pension scheme?  (index:  5552 )\n",
      "-  Does the minister agree with the initiatives of the inter-ministerial officials&#39; group on &quot;Efforts for the blind and severely visually impaired&quot; (November 2011), and if so, how will the minister implement the initiatives that are not covered by the rate pool agreement for 2012?  (index:  7056 )\n"
     ]
    }
   ],
   "source": [
    "# testing the function\n",
    "new_question = \"Is animal welfare important?\"\n",
    "nearest_questions = find_nearest_questions(new_question)\n",
    "\n",
    "print(\"Nearest questions for: \", new_question)\n",
    "for question, index in nearest_questions:\n",
    "    print(\"- \", question, \" (index: \", index, \")\")"
   ]
  },
  {
   "cell_type": "code",
   "execution_count": 65,
   "metadata": {},
   "outputs": [
    {
     "name": "stderr",
     "output_type": "stream",
     "text": [
      "[nltk_data] Downloading package punkt to\n",
      "[nltk_data]     C:\\Users\\rune7\\AppData\\Roaming\\nltk_data...\n",
      "[nltk_data]   Unzipping tokenizers\\punkt.zip.\n"
     ]
    },
    {
     "data": {
      "text/plain": [
       "399251"
      ]
     },
     "execution_count": 65,
     "metadata": {},
     "output_type": "execute_result"
    }
   ],
   "source": [
    "#count the number of tokens in new_corpus\n",
    "import nltk\n",
    "nltk.download('punkt')\n",
    "from nltk.tokenize import word_tokenize\n",
    "tokenized_corpus = [word_tokenize(x) for x in new_corpus]\n",
    "tokenized_corpus = [item for sublist in tokenized_corpus for item in sublist]\n",
    "len(tokenized_corpus)"
   ]
  },
  {
   "cell_type": "code",
   "execution_count": 69,
   "metadata": {},
   "outputs": [
    {
     "data": {
      "text/plain": [
       "3.216"
      ]
     },
     "execution_count": 69,
     "metadata": {},
     "output_type": "execute_result"
    }
   ],
   "source": [
    "(1608000/1000) * 0.0020"
   ]
  }
 ],
 "metadata": {
  "kernelspec": {
   "display_name": "deep",
   "language": "python",
   "name": "python3"
  },
  "language_info": {
   "codemirror_mode": {
    "name": "ipython",
    "version": 3
   },
   "file_extension": ".py",
   "mimetype": "text/x-python",
   "name": "python",
   "nbconvert_exporter": "python",
   "pygments_lexer": "ipython3",
   "version": "3.9.16"
  },
  "orig_nbformat": 4,
  "vscode": {
   "interpreter": {
    "hash": "eb6f1310e4cbbe83899fa3e2dcaa83329108f92c90079e59df5f7ddb93fa3967"
   }
  }
 },
 "nbformat": 4,
 "nbformat_minor": 2
}
