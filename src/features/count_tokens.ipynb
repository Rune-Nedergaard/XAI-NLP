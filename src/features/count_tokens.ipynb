{
 "cells": [
  {
   "cell_type": "code",
   "execution_count": 2,
   "metadata": {},
   "outputs": [
    {
     "name": "stderr",
     "output_type": "stream",
     "text": [
      "Processing Files: 100%|██████████| 7599/7599 [00:01<00:00, 4521.10it/s]"
     ]
    },
    {
     "name": "stdout",
     "output_type": "stream",
     "text": [
      "2758888\n"
     ]
    },
    {
     "name": "stderr",
     "output_type": "stream",
     "text": [
      "\n"
     ]
    }
   ],
   "source": [
    "import os\n",
    "import string\n",
    "from tqdm import tqdm\n",
    "\n",
    "def count_tokens(folder_path):\n",
    "    # Initialize the count\n",
    "    count = 0\n",
    "\n",
    "    # Get a list of all files in the folder\n",
    "    for filename in tqdm(os.listdir(folder_path), desc=\"Processing Files\"):\n",
    "        # Check if the file is a text file\n",
    "        if filename.endswith(\".txt\"):\n",
    "            # Open the file\n",
    "            with open(os.path.join(folder_path, filename), \"r\") as file:\n",
    "                # Read the contents of the file\n",
    "                contents = file.read()\n",
    "                # Remove punctuation from the contents\n",
    "                contents = contents.translate(str.maketrans(\"\", \"\", string.punctuation))\n",
    "                # Split the contents into words\n",
    "                words = contents.split()\n",
    "                # Increment the count by the number of words\n",
    "                count += len(words)\n",
    "\n",
    "    # Return the total count\n",
    "    return count\n",
    "\n",
    "# Example usage\n",
    "print(count_tokens(\"../../data/processed/\"))\n"
   ]
  },
  {
   "attachments": {},
   "cell_type": "markdown",
   "metadata": {},
   "source": [
    "Experimenting with autocorrect for the files scanned using OCR"
   ]
  },
  {
   "cell_type": "code",
   "execution_count": null,
   "metadata": {},
   "outputs": [],
   "source": [
    "from spellchecker import SpellChecker\n",
    "\n",
    "spell = SpellChecker(language='da')\n",
    "\n",
    "file_path = 'data/test/32.txt'\n",
    "with open(file_path, 'r', encoding='utf-8') as f:\n",
    "    text = f.read()\n",
    "\n",
    "words = text.split()\n",
    "corrected_text = []\n",
    "for word in words:\n",
    "    corrected_word = spell.correction(word) if spell.unknown([word]) else word\n",
    "    corrected_text.append(corrected_word)\n",
    "\n",
    "corrected_text = \" \".join(corrected_text)\n",
    "\n",
    "output_file_path = '../../data/test/32_corrected.txt'\n",
    "with open(output_file_path, 'w', encoding='utf-8') as f:\n",
    "    f.write(corrected_text)\n",
    "\n",
    "print(f'Corrected text written to file: {output_file_path}')\n"
   ]
  }
 ],
 "metadata": {
  "kernelspec": {
   "display_name": "deep",
   "language": "python",
   "name": "python3"
  },
  "language_info": {
   "codemirror_mode": {
    "name": "ipython",
    "version": 3
   },
   "file_extension": ".py",
   "mimetype": "text/x-python",
   "name": "python",
   "nbconvert_exporter": "python",
   "pygments_lexer": "ipython3",
   "version": "3.9.16"
  },
  "orig_nbformat": 4,
  "vscode": {
   "interpreter": {
    "hash": "eb6f1310e4cbbe83899fa3e2dcaa83329108f92c90079e59df5f7ddb93fa3967"
   }
  }
 },
 "nbformat": 4,
 "nbformat_minor": 2
}
