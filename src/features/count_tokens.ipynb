{
 "cells": [
  {
   "cell_type": "code",
   "execution_count": 2,
   "metadata": {},
   "outputs": [
    {
     "name": "stderr",
     "output_type": "stream",
     "text": [
      "Processing Files: 100%|██████████| 7599/7599 [00:01<00:00, 4521.10it/s]"
     ]
    },
    {
     "name": "stdout",
     "output_type": "stream",
     "text": [
      "2758888\n"
     ]
    },
    {
     "name": "stderr",
     "output_type": "stream",
     "text": [
      "\n"
     ]
    }
   ],
   "source": [
    "import os\n",
    "import string\n",
    "from tqdm import tqdm\n",
    "\n",
    "def count_tokens(folder_path):\n",
    "    # Initialize the count\n",
    "    count = 0\n",
    "\n",
    "    # Get a list of all files in the folder\n",
    "    for filename in tqdm(os.listdir(folder_path), desc=\"Processing Files\"):\n",
    "        # Check if the file is a text file\n",
    "        if filename.endswith(\".txt\"):\n",
    "            # Open the file\n",
    "            with open(os.path.join(folder_path, filename), \"r\") as file:\n",
    "                # Read the contents of the file\n",
    "                contents = file.read()\n",
    "                # Remove punctuation from the contents\n",
    "                contents = contents.translate(str.maketrans(\"\", \"\", string.punctuation))\n",
    "                # Split the contents into words\n",
    "                words = contents.split()\n",
    "                # Increment the count by the number of words\n",
    "                count += len(words)\n",
    "\n",
    "    # Return the total count\n",
    "    return count\n",
    "\n",
    "# Example usage\n",
    "print(count_tokens(\"../../data/processed/\"))\n"
   ]
  },
  {
   "attachments": {},
   "cell_type": "markdown",
   "metadata": {},
   "source": [
    "Experimenting with autocorrect for the files scanned using OCR"
   ]
  },
  {
   "cell_type": "code",
   "execution_count": 7,
   "metadata": {},
   "outputs": [
    {
     "ename": "ModuleNotFoundError",
     "evalue": "No module named 'hunspell'",
     "output_type": "error",
     "traceback": [
      "\u001b[1;31m---------------------------------------------------------------------------\u001b[0m",
      "\u001b[1;31mModuleNotFoundError\u001b[0m                       Traceback (most recent call last)",
      "Cell \u001b[1;32mIn[7], line 1\u001b[0m\n\u001b[1;32m----> 1\u001b[0m \u001b[39mimport\u001b[39;00m \u001b[39mhunspell\u001b[39;00m\n",
      "\u001b[1;31mModuleNotFoundError\u001b[0m: No module named 'hunspell'"
     ]
    }
   ],
   "source": [
    "import hunspell\n"
   ]
  },
  {
   "cell_type": "code",
   "execution_count": 6,
   "metadata": {},
   "outputs": [
    {
     "name": "stdout",
     "output_type": "stream",
     "text": [
      "['de', 'en', 'es', 'fr', 'pt', 'ru', 'ar']\n"
     ]
    }
   ],
   "source": [
    "from spellchecker import SpellChecker\n",
    "\n",
    "print(SpellChecker.languages())"
   ]
  }
 ],
 "metadata": {
  "kernelspec": {
   "display_name": "deep",
   "language": "python",
   "name": "python3"
  },
  "language_info": {
   "codemirror_mode": {
    "name": "ipython",
    "version": 3
   },
   "file_extension": ".py",
   "mimetype": "text/x-python",
   "name": "python",
   "nbconvert_exporter": "python",
   "pygments_lexer": "ipython3",
   "version": "3.9.16"
  },
  "orig_nbformat": 4,
  "vscode": {
   "interpreter": {
    "hash": "eb6f1310e4cbbe83899fa3e2dcaa83329108f92c90079e59df5f7ddb93fa3967"
   }
  }
 },
 "nbformat": 4,
 "nbformat_minor": 2
}
