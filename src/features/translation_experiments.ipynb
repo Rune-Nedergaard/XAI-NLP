{
 "cells": [
  {
   "cell_type": "code",
   "execution_count": null,
   "metadata": {},
   "outputs": [],
   "source": [
    "from google.cloud import translate_v2 as translate\n",
    "translate_client = translate.Client()\n",
    "\n",
    "def translate_text(text, target_language='en'):\n",
    "    result = translate_client.translate(text, target_language=target_language)\n",
    "    return result['input'], result['output']\n",
    "\n",
    "input_text = \"Bonjour le monde\"\n",
    "source_language, translated_text = translate_text(input_text)\n",
    "print(f'Source Language: {source_language}')\n",
    "print(f'Translated Text: {translated_text}')"
   ]
  }
 ],
 "metadata": {
  "kernelspec": {
   "display_name": "deep",
   "language": "python",
   "name": "python3"
  },
  "language_info": {
   "codemirror_mode": {
    "name": "ipython",
    "version": 3
   },
   "file_extension": ".py",
   "mimetype": "text/x-python",
   "name": "python",
   "nbconvert_exporter": "python",
   "pygments_lexer": "ipython3",
   "version": "3.9.16"
  },
  "orig_nbformat": 4,
  "vscode": {
   "interpreter": {
    "hash": "eb6f1310e4cbbe83899fa3e2dcaa83329108f92c90079e59df5f7ddb93fa3967"
   }
  }
 },
 "nbformat": 4,
 "nbformat_minor": 2
}
